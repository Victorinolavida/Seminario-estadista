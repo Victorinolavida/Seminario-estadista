{
 "cells": [
  {
   "cell_type": "code",
   "execution_count": 94,
   "id": "dd7a27ac",
   "metadata": {},
   "outputs": [],
   "source": [
    "import pandas as pd \n",
    "import numpy as np\n",
    "from sklearn import linear_model"
   ]
  },
  {
   "cell_type": "code",
   "execution_count": 5,
   "id": "dae09141",
   "metadata": {},
   "outputs": [],
   "source": [
    "t = pd.read_excel(\"/Users/igabo/Desktop/Tarea 1 semi/Tarea 1/lineal_horm.xlsx\")"
   ]
  },
  {
   "cell_type": "code",
   "execution_count": 6,
   "id": "8ca68882",
   "metadata": {},
   "outputs": [
    {
     "data": {
      "text/plain": [
       "[99, 152, 293, 155, 196, 53, 184, 171, 52]"
      ]
     },
     "execution_count": 6,
     "metadata": {},
     "output_type": "execute_result"
    }
   ],
   "source": [
    "list(t.loc[t['lote'] == 'A']['horas'])"
   ]
  },
  {
   "cell_type": "code",
   "execution_count": 7,
   "id": "dc898f92",
   "metadata": {},
   "outputs": [
    {
     "data": {
      "text/html": [
       "<div>\n",
       "<style scoped>\n",
       "    .dataframe tbody tr th:only-of-type {\n",
       "        vertical-align: middle;\n",
       "    }\n",
       "\n",
       "    .dataframe tbody tr th {\n",
       "        vertical-align: top;\n",
       "    }\n",
       "\n",
       "    .dataframe thead th {\n",
       "        text-align: right;\n",
       "    }\n",
       "</style>\n",
       "<table border=\"1\" class=\"dataframe\">\n",
       "  <thead>\n",
       "    <tr style=\"text-align: right;\">\n",
       "      <th></th>\n",
       "      <th>lote</th>\n",
       "      <th>horas</th>\n",
       "      <th>monto</th>\n",
       "    </tr>\n",
       "  </thead>\n",
       "  <tbody>\n",
       "    <tr>\n",
       "      <th>8</th>\n",
       "      <td>A</td>\n",
       "      <td>52</td>\n",
       "      <td>30.4</td>\n",
       "    </tr>\n",
       "    <tr>\n",
       "      <th>0</th>\n",
       "      <td>A</td>\n",
       "      <td>99</td>\n",
       "      <td>25.8</td>\n",
       "    </tr>\n",
       "    <tr>\n",
       "      <th>1</th>\n",
       "      <td>A</td>\n",
       "      <td>152</td>\n",
       "      <td>20.5</td>\n",
       "    </tr>\n",
       "    <tr>\n",
       "      <th>7</th>\n",
       "      <td>A</td>\n",
       "      <td>171</td>\n",
       "      <td>20.9</td>\n",
       "    </tr>\n",
       "    <tr>\n",
       "      <th>6</th>\n",
       "      <td>A</td>\n",
       "      <td>184</td>\n",
       "      <td>20.9</td>\n",
       "    </tr>\n",
       "    <tr>\n",
       "      <th>5</th>\n",
       "      <td>A</td>\n",
       "      <td>53</td>\n",
       "      <td>31.1</td>\n",
       "    </tr>\n",
       "    <tr>\n",
       "      <th>2</th>\n",
       "      <td>A</td>\n",
       "      <td>293</td>\n",
       "      <td>14.3</td>\n",
       "    </tr>\n",
       "    <tr>\n",
       "      <th>7</th>\n",
       "      <td>A</td>\n",
       "      <td>171</td>\n",
       "      <td>20.9</td>\n",
       "    </tr>\n",
       "    <tr>\n",
       "      <th>6</th>\n",
       "      <td>A</td>\n",
       "      <td>184</td>\n",
       "      <td>20.9</td>\n",
       "    </tr>\n",
       "    <tr>\n",
       "      <th>3</th>\n",
       "      <td>A</td>\n",
       "      <td>155</td>\n",
       "      <td>23.2</td>\n",
       "    </tr>\n",
       "  </tbody>\n",
       "</table>\n",
       "</div>"
      ],
      "text/plain": [
       "  lote  horas  monto\n",
       "8    A     52   30.4\n",
       "0    A     99   25.8\n",
       "1    A    152   20.5\n",
       "7    A    171   20.9\n",
       "6    A    184   20.9\n",
       "5    A     53   31.1\n",
       "2    A    293   14.3\n",
       "7    A    171   20.9\n",
       "6    A    184   20.9\n",
       "3    A    155   23.2"
      ]
     },
     "execution_count": 7,
     "metadata": {},
     "output_type": "execute_result"
    }
   ],
   "source": [
    "k_A = t.loc[t['lote'] == 'A'].sample(n=10, replace = True)\n",
    "k_A"
   ]
  },
  {
   "cell_type": "code",
   "execution_count": 8,
   "id": "9c538e8d",
   "metadata": {},
   "outputs": [
    {
     "data": {
      "text/plain": [
       "array([ 52,  99, 152, 171, 184,  53, 293, 171, 184, 155])"
      ]
     },
     "execution_count": 8,
     "metadata": {},
     "output_type": "execute_result"
    }
   ],
   "source": [
    "k_A['horas'].to_numpy()"
   ]
  },
  {
   "cell_type": "code",
   "execution_count": 9,
   "id": "0522a8d6",
   "metadata": {},
   "outputs": [
    {
     "data": {
      "text/html": [
       "<div>\n",
       "<style scoped>\n",
       "    .dataframe tbody tr th:only-of-type {\n",
       "        vertical-align: middle;\n",
       "    }\n",
       "\n",
       "    .dataframe tbody tr th {\n",
       "        vertical-align: top;\n",
       "    }\n",
       "\n",
       "    .dataframe thead th {\n",
       "        text-align: right;\n",
       "    }\n",
       "</style>\n",
       "<table border=\"1\" class=\"dataframe\">\n",
       "  <thead>\n",
       "    <tr style=\"text-align: right;\">\n",
       "      <th></th>\n",
       "      <th>lote</th>\n",
       "      <th>horas</th>\n",
       "      <th>monto</th>\n",
       "    </tr>\n",
       "  </thead>\n",
       "  <tbody>\n",
       "    <tr>\n",
       "      <th>15</th>\n",
       "      <td>B</td>\n",
       "      <td>151</td>\n",
       "      <td>24.1</td>\n",
       "    </tr>\n",
       "    <tr>\n",
       "      <th>14</th>\n",
       "      <td>B</td>\n",
       "      <td>296</td>\n",
       "      <td>18.0</td>\n",
       "    </tr>\n",
       "    <tr>\n",
       "      <th>12</th>\n",
       "      <td>B</td>\n",
       "      <td>29</td>\n",
       "      <td>32.5</td>\n",
       "    </tr>\n",
       "    <tr>\n",
       "      <th>13</th>\n",
       "      <td>B</td>\n",
       "      <td>76</td>\n",
       "      <td>32.0</td>\n",
       "    </tr>\n",
       "    <tr>\n",
       "      <th>10</th>\n",
       "      <td>B</td>\n",
       "      <td>385</td>\n",
       "      <td>11.6</td>\n",
       "    </tr>\n",
       "    <tr>\n",
       "      <th>14</th>\n",
       "      <td>B</td>\n",
       "      <td>296</td>\n",
       "      <td>18.0</td>\n",
       "    </tr>\n",
       "    <tr>\n",
       "      <th>10</th>\n",
       "      <td>B</td>\n",
       "      <td>385</td>\n",
       "      <td>11.6</td>\n",
       "    </tr>\n",
       "    <tr>\n",
       "      <th>14</th>\n",
       "      <td>B</td>\n",
       "      <td>296</td>\n",
       "      <td>18.0</td>\n",
       "    </tr>\n",
       "    <tr>\n",
       "      <th>17</th>\n",
       "      <td>B</td>\n",
       "      <td>209</td>\n",
       "      <td>25.8</td>\n",
       "    </tr>\n",
       "    <tr>\n",
       "      <th>13</th>\n",
       "      <td>B</td>\n",
       "      <td>76</td>\n",
       "      <td>32.0</td>\n",
       "    </tr>\n",
       "  </tbody>\n",
       "</table>\n",
       "</div>"
      ],
      "text/plain": [
       "   lote  horas  monto\n",
       "15    B    151   24.1\n",
       "14    B    296   18.0\n",
       "12    B     29   32.5\n",
       "13    B     76   32.0\n",
       "10    B    385   11.6\n",
       "14    B    296   18.0\n",
       "10    B    385   11.6\n",
       "14    B    296   18.0\n",
       "17    B    209   25.8\n",
       "13    B     76   32.0"
      ]
     },
     "execution_count": 9,
     "metadata": {},
     "output_type": "execute_result"
    }
   ],
   "source": [
    "k_B = t.loc[t['lote'] == 'B'].sample(n=10, replace = True)\n",
    "k_B"
   ]
  },
  {
   "cell_type": "code",
   "execution_count": 10,
   "id": "acdcf3b5",
   "metadata": {},
   "outputs": [
    {
     "data": {
      "text/html": [
       "<div>\n",
       "<style scoped>\n",
       "    .dataframe tbody tr th:only-of-type {\n",
       "        vertical-align: middle;\n",
       "    }\n",
       "\n",
       "    .dataframe tbody tr th {\n",
       "        vertical-align: top;\n",
       "    }\n",
       "\n",
       "    .dataframe thead th {\n",
       "        text-align: right;\n",
       "    }\n",
       "</style>\n",
       "<table border=\"1\" class=\"dataframe\">\n",
       "  <thead>\n",
       "    <tr style=\"text-align: right;\">\n",
       "      <th></th>\n",
       "      <th>lote</th>\n",
       "      <th>horas</th>\n",
       "      <th>monto</th>\n",
       "    </tr>\n",
       "  </thead>\n",
       "  <tbody>\n",
       "    <tr>\n",
       "      <th>24</th>\n",
       "      <td>C</td>\n",
       "      <td>150</td>\n",
       "      <td>25.4</td>\n",
       "    </tr>\n",
       "    <tr>\n",
       "      <th>26</th>\n",
       "      <td>C</td>\n",
       "      <td>125</td>\n",
       "      <td>28.5</td>\n",
       "    </tr>\n",
       "    <tr>\n",
       "      <th>25</th>\n",
       "      <td>C</td>\n",
       "      <td>107</td>\n",
       "      <td>31.7</td>\n",
       "    </tr>\n",
       "    <tr>\n",
       "      <th>23</th>\n",
       "      <td>C</td>\n",
       "      <td>49</td>\n",
       "      <td>32.5</td>\n",
       "    </tr>\n",
       "    <tr>\n",
       "      <th>26</th>\n",
       "      <td>C</td>\n",
       "      <td>125</td>\n",
       "      <td>28.5</td>\n",
       "    </tr>\n",
       "    <tr>\n",
       "      <th>19</th>\n",
       "      <td>C</td>\n",
       "      <td>188</td>\n",
       "      <td>22.0</td>\n",
       "    </tr>\n",
       "    <tr>\n",
       "      <th>25</th>\n",
       "      <td>C</td>\n",
       "      <td>107</td>\n",
       "      <td>31.7</td>\n",
       "    </tr>\n",
       "    <tr>\n",
       "      <th>24</th>\n",
       "      <td>C</td>\n",
       "      <td>150</td>\n",
       "      <td>25.4</td>\n",
       "    </tr>\n",
       "    <tr>\n",
       "      <th>18</th>\n",
       "      <td>C</td>\n",
       "      <td>119</td>\n",
       "      <td>28.8</td>\n",
       "    </tr>\n",
       "    <tr>\n",
       "      <th>19</th>\n",
       "      <td>C</td>\n",
       "      <td>188</td>\n",
       "      <td>22.0</td>\n",
       "    </tr>\n",
       "  </tbody>\n",
       "</table>\n",
       "</div>"
      ],
      "text/plain": [
       "   lote  horas  monto\n",
       "24    C    150   25.4\n",
       "26    C    125   28.5\n",
       "25    C    107   31.7\n",
       "23    C     49   32.5\n",
       "26    C    125   28.5\n",
       "19    C    188   22.0\n",
       "25    C    107   31.7\n",
       "24    C    150   25.4\n",
       "18    C    119   28.8\n",
       "19    C    188   22.0"
      ]
     },
     "execution_count": 10,
     "metadata": {},
     "output_type": "execute_result"
    }
   ],
   "source": [
    "k_C = t.loc[t['lote'] == 'C'].sample(n=10, replace = True)\n",
    "k_C"
   ]
  },
  {
   "cell_type": "code",
   "execution_count": 11,
   "id": "fc2376a9",
   "metadata": {},
   "outputs": [
    {
     "data": {
      "text/html": [
       "<div>\n",
       "<style scoped>\n",
       "    .dataframe tbody tr th:only-of-type {\n",
       "        vertical-align: middle;\n",
       "    }\n",
       "\n",
       "    .dataframe tbody tr th {\n",
       "        vertical-align: top;\n",
       "    }\n",
       "\n",
       "    .dataframe thead th {\n",
       "        text-align: right;\n",
       "    }\n",
       "</style>\n",
       "<table border=\"1\" class=\"dataframe\">\n",
       "  <thead>\n",
       "    <tr style=\"text-align: right;\">\n",
       "      <th></th>\n",
       "      <th>lote</th>\n",
       "      <th>horas</th>\n",
       "      <th>monto</th>\n",
       "    </tr>\n",
       "  </thead>\n",
       "  <tbody>\n",
       "    <tr>\n",
       "      <th>8</th>\n",
       "      <td>A</td>\n",
       "      <td>52</td>\n",
       "      <td>30.4</td>\n",
       "    </tr>\n",
       "    <tr>\n",
       "      <th>0</th>\n",
       "      <td>A</td>\n",
       "      <td>99</td>\n",
       "      <td>25.8</td>\n",
       "    </tr>\n",
       "    <tr>\n",
       "      <th>1</th>\n",
       "      <td>A</td>\n",
       "      <td>152</td>\n",
       "      <td>20.5</td>\n",
       "    </tr>\n",
       "    <tr>\n",
       "      <th>7</th>\n",
       "      <td>A</td>\n",
       "      <td>171</td>\n",
       "      <td>20.9</td>\n",
       "    </tr>\n",
       "    <tr>\n",
       "      <th>6</th>\n",
       "      <td>A</td>\n",
       "      <td>184</td>\n",
       "      <td>20.9</td>\n",
       "    </tr>\n",
       "    <tr>\n",
       "      <th>5</th>\n",
       "      <td>A</td>\n",
       "      <td>53</td>\n",
       "      <td>31.1</td>\n",
       "    </tr>\n",
       "    <tr>\n",
       "      <th>2</th>\n",
       "      <td>A</td>\n",
       "      <td>293</td>\n",
       "      <td>14.3</td>\n",
       "    </tr>\n",
       "    <tr>\n",
       "      <th>7</th>\n",
       "      <td>A</td>\n",
       "      <td>171</td>\n",
       "      <td>20.9</td>\n",
       "    </tr>\n",
       "    <tr>\n",
       "      <th>6</th>\n",
       "      <td>A</td>\n",
       "      <td>184</td>\n",
       "      <td>20.9</td>\n",
       "    </tr>\n",
       "    <tr>\n",
       "      <th>3</th>\n",
       "      <td>A</td>\n",
       "      <td>155</td>\n",
       "      <td>23.2</td>\n",
       "    </tr>\n",
       "    <tr>\n",
       "      <th>15</th>\n",
       "      <td>B</td>\n",
       "      <td>151</td>\n",
       "      <td>24.1</td>\n",
       "    </tr>\n",
       "    <tr>\n",
       "      <th>14</th>\n",
       "      <td>B</td>\n",
       "      <td>296</td>\n",
       "      <td>18.0</td>\n",
       "    </tr>\n",
       "    <tr>\n",
       "      <th>12</th>\n",
       "      <td>B</td>\n",
       "      <td>29</td>\n",
       "      <td>32.5</td>\n",
       "    </tr>\n",
       "    <tr>\n",
       "      <th>13</th>\n",
       "      <td>B</td>\n",
       "      <td>76</td>\n",
       "      <td>32.0</td>\n",
       "    </tr>\n",
       "    <tr>\n",
       "      <th>10</th>\n",
       "      <td>B</td>\n",
       "      <td>385</td>\n",
       "      <td>11.6</td>\n",
       "    </tr>\n",
       "    <tr>\n",
       "      <th>14</th>\n",
       "      <td>B</td>\n",
       "      <td>296</td>\n",
       "      <td>18.0</td>\n",
       "    </tr>\n",
       "    <tr>\n",
       "      <th>10</th>\n",
       "      <td>B</td>\n",
       "      <td>385</td>\n",
       "      <td>11.6</td>\n",
       "    </tr>\n",
       "    <tr>\n",
       "      <th>14</th>\n",
       "      <td>B</td>\n",
       "      <td>296</td>\n",
       "      <td>18.0</td>\n",
       "    </tr>\n",
       "    <tr>\n",
       "      <th>17</th>\n",
       "      <td>B</td>\n",
       "      <td>209</td>\n",
       "      <td>25.8</td>\n",
       "    </tr>\n",
       "    <tr>\n",
       "      <th>13</th>\n",
       "      <td>B</td>\n",
       "      <td>76</td>\n",
       "      <td>32.0</td>\n",
       "    </tr>\n",
       "    <tr>\n",
       "      <th>24</th>\n",
       "      <td>C</td>\n",
       "      <td>150</td>\n",
       "      <td>25.4</td>\n",
       "    </tr>\n",
       "    <tr>\n",
       "      <th>26</th>\n",
       "      <td>C</td>\n",
       "      <td>125</td>\n",
       "      <td>28.5</td>\n",
       "    </tr>\n",
       "    <tr>\n",
       "      <th>25</th>\n",
       "      <td>C</td>\n",
       "      <td>107</td>\n",
       "      <td>31.7</td>\n",
       "    </tr>\n",
       "    <tr>\n",
       "      <th>23</th>\n",
       "      <td>C</td>\n",
       "      <td>49</td>\n",
       "      <td>32.5</td>\n",
       "    </tr>\n",
       "    <tr>\n",
       "      <th>26</th>\n",
       "      <td>C</td>\n",
       "      <td>125</td>\n",
       "      <td>28.5</td>\n",
       "    </tr>\n",
       "    <tr>\n",
       "      <th>19</th>\n",
       "      <td>C</td>\n",
       "      <td>188</td>\n",
       "      <td>22.0</td>\n",
       "    </tr>\n",
       "    <tr>\n",
       "      <th>25</th>\n",
       "      <td>C</td>\n",
       "      <td>107</td>\n",
       "      <td>31.7</td>\n",
       "    </tr>\n",
       "    <tr>\n",
       "      <th>24</th>\n",
       "      <td>C</td>\n",
       "      <td>150</td>\n",
       "      <td>25.4</td>\n",
       "    </tr>\n",
       "    <tr>\n",
       "      <th>18</th>\n",
       "      <td>C</td>\n",
       "      <td>119</td>\n",
       "      <td>28.8</td>\n",
       "    </tr>\n",
       "    <tr>\n",
       "      <th>19</th>\n",
       "      <td>C</td>\n",
       "      <td>188</td>\n",
       "      <td>22.0</td>\n",
       "    </tr>\n",
       "  </tbody>\n",
       "</table>\n",
       "</div>"
      ],
      "text/plain": [
       "   lote  horas  monto\n",
       "8     A     52   30.4\n",
       "0     A     99   25.8\n",
       "1     A    152   20.5\n",
       "7     A    171   20.9\n",
       "6     A    184   20.9\n",
       "5     A     53   31.1\n",
       "2     A    293   14.3\n",
       "7     A    171   20.9\n",
       "6     A    184   20.9\n",
       "3     A    155   23.2\n",
       "15    B    151   24.1\n",
       "14    B    296   18.0\n",
       "12    B     29   32.5\n",
       "13    B     76   32.0\n",
       "10    B    385   11.6\n",
       "14    B    296   18.0\n",
       "10    B    385   11.6\n",
       "14    B    296   18.0\n",
       "17    B    209   25.8\n",
       "13    B     76   32.0\n",
       "24    C    150   25.4\n",
       "26    C    125   28.5\n",
       "25    C    107   31.7\n",
       "23    C     49   32.5\n",
       "26    C    125   28.5\n",
       "19    C    188   22.0\n",
       "25    C    107   31.7\n",
       "24    C    150   25.4\n",
       "18    C    119   28.8\n",
       "19    C    188   22.0"
      ]
     },
     "execution_count": 11,
     "metadata": {},
     "output_type": "execute_result"
    }
   ],
   "source": [
    "# 30 elementos aleatorios de los lotes\n",
    "T = k_A.append(k_B).append(k_C)\n",
    "T"
   ]
  },
  {
   "cell_type": "code",
   "execution_count": 92,
   "id": "0f82576b",
   "metadata": {},
   "outputs": [],
   "source": [
    "reg = linear_model.LinearRegression()"
   ]
  },
  {
   "cell_type": "code",
   "execution_count": 104,
   "id": "8766d8db",
   "metadata": {},
   "outputs": [],
   "source": [
    "x = T[[\"horas\"]]"
   ]
  },
  {
   "cell_type": "code",
   "execution_count": 86,
   "id": "21f23d86",
   "metadata": {},
   "outputs": [],
   "source": [
    "# y = T['monto'].to_numpy() \n",
    "# print(y)\n",
    "y = T[[\"monto\"]]"
   ]
  },
  {
   "cell_type": "code",
   "execution_count": 36,
   "id": "a08ad53b",
   "metadata": {},
   "outputs": [],
   "source": [
    "# x = np.array(x).reshape((-1, 1))\n",
    "# x"
   ]
  },
  {
   "cell_type": "code",
   "execution_count": 98,
   "id": "dc7ee635",
   "metadata": {},
   "outputs": [
    {
     "data": {
      "text/plain": [
       "LinearRegression()"
      ]
     },
     "execution_count": 98,
     "metadata": {},
     "output_type": "execute_result"
    }
   ],
   "source": [
    "reg.fit(x, y)"
   ]
  },
  {
   "cell_type": "code",
   "execution_count": 106,
   "id": "fd7d1020",
   "metadata": {},
   "outputs": [
    {
     "name": "stdout",
     "output_type": "stream",
     "text": [
      "[34.59382538]\n"
     ]
    }
   ],
   "source": [
    "b_0 = reg.intercept_ # Beta_0\n",
    "print(b_0)"
   ]
  },
  {
   "cell_type": "code",
   "execution_count": 110,
   "id": "27fde729",
   "metadata": {},
   "outputs": [
    {
     "name": "stdout",
     "output_type": "stream",
     "text": [
      "[-0.06150463]\n"
     ]
    }
   ],
   "source": [
    "b_1 = reg.coef_[0] # Beta_1\n",
    "print(b_1)"
   ]
  },
  {
   "cell_type": "code",
   "execution_count": 114,
   "id": "5e90477c",
   "metadata": {},
   "outputs": [
    {
     "name": "stdout",
     "output_type": "stream",
     "text": [
      "    monto\n",
      "8    30.4\n",
      "0    25.8\n",
      "1    20.5\n",
      "7    20.9\n",
      "6    20.9\n",
      "5    31.1\n",
      "2    14.3\n",
      "7    20.9\n",
      "6    20.9\n",
      "3    23.2\n",
      "15   24.1\n",
      "14   18.0\n",
      "12   32.5\n",
      "13   32.0\n",
      "10   11.6\n",
      "14   18.0\n",
      "10   11.6\n",
      "14   18.0\n",
      "17   25.8\n",
      "13   32.0\n",
      "24   25.4\n",
      "26   28.5\n",
      "25   31.7\n",
      "23   32.5\n",
      "26   28.5\n",
      "19   22.0\n",
      "25   31.7\n",
      "24   25.4\n",
      "18   28.8\n",
      "19   22.0\n"
     ]
    }
   ],
   "source": [
    "print(y)"
   ]
  },
  {
   "cell_type": "code",
   "execution_count": 118,
   "id": "d2ac66af",
   "metadata": {},
   "outputs": [],
   "source": [
    "y_pred = reg.predict(x)"
   ]
  },
  {
   "cell_type": "code",
   "execution_count": 121,
   "id": "54905d86",
   "metadata": {},
   "outputs": [
    {
     "data": {
      "text/plain": [
       "array([[31.39558447],\n",
       "       [28.50486673],\n",
       "       [25.24512119],\n",
       "       [24.07653317],\n",
       "       [23.27697294],\n",
       "       [31.33407984],\n",
       "       [16.57296796],\n",
       "       [24.07653317],\n",
       "       [23.27697294],\n",
       "       [25.06060729],\n",
       "       [25.30662582],\n",
       "       [16.38845407],\n",
       "       [32.81019103],\n",
       "       [29.91947328],\n",
       "       [10.91454175],\n",
       "       [16.38845407],\n",
       "       [10.91454175],\n",
       "       [16.38845407],\n",
       "       [21.73935712],\n",
       "       [29.91947328],\n",
       "       [25.36813046],\n",
       "       [26.90574628],\n",
       "       [28.01282967],\n",
       "       [31.58009837],\n",
       "       [26.90574628],\n",
       "       [23.03095441],\n",
       "       [28.01282967],\n",
       "       [25.36813046],\n",
       "       [27.27477407],\n",
       "       [23.03095441]])"
      ]
     },
     "execution_count": 121,
     "metadata": {},
     "output_type": "execute_result"
    }
   ],
   "source": [
    "y_pred"
   ]
  },
  {
   "cell_type": "code",
   "execution_count": 124,
   "id": "a079b841",
   "metadata": {},
   "outputs": [
    {
     "data": {
      "text/plain": [
       "array([31.39558447, 28.50486673, 25.24512119, 24.07653317, 23.27697294,\n",
       "       31.33407984, 16.57296796, 24.07653317, 23.27697294, 25.06060729,\n",
       "       25.30662582, 16.38845407, 32.81019103, 29.91947328, 10.91454175,\n",
       "       16.38845407, 10.91454175, 16.38845407, 21.73935712, 29.91947328,\n",
       "       25.36813046, 26.90574628, 28.01282967, 31.58009837, 26.90574628,\n",
       "       23.03095441, 28.01282967, 25.36813046, 27.27477407, 23.03095441])"
      ]
     },
     "execution_count": 124,
     "metadata": {},
     "output_type": "execute_result"
    }
   ],
   "source": [
    "y_estim = y_pred.reshape(-1)\n",
    "y_estim"
   ]
  },
  {
   "cell_type": "code",
   "execution_count": 125,
   "id": "0aad941e",
   "metadata": {},
   "outputs": [
    {
     "data": {
      "text/plain": [
       "array([ 52,  99, 152, 171, 184,  53, 293, 171, 184, 155, 151, 296,  29,\n",
       "        76, 385, 296, 385, 296, 209,  76, 150, 125, 107,  49, 125, 188,\n",
       "       107, 150, 119, 188])"
      ]
     },
     "execution_count": 125,
     "metadata": {},
     "output_type": "execute_result"
    }
   ],
   "source": [
    "x = x.to_numpy().reshape(-1)\n",
    "x"
   ]
  },
  {
   "cell_type": "code",
   "execution_count": 127,
   "id": "9d81f73b",
   "metadata": {},
   "outputs": [],
   "source": [
    "y_real = y.to_numpy().reshape(-1)\n",
    "y_real"
   ]
  },
  {
   "cell_type": "code",
   "execution_count": 134,
   "id": "36786239",
   "metadata": {},
   "outputs": [
    {
     "data": {
      "text/plain": [
       "array([-0.99558447, -2.70486673, -4.74512119, -3.17653317, -2.37697294,\n",
       "       -0.23407984, -2.27296796, -3.17653317, -2.37697294, -1.86060729,\n",
       "       -1.20662582,  1.61154593, -0.31019103,  2.08052672,  0.68545825,\n",
       "        1.61154593,  0.68545825,  1.61154593,  4.06064288,  2.08052672,\n",
       "        0.03186954,  1.59425372,  3.68717033,  0.91990163,  1.59425372,\n",
       "       -1.03095441,  3.68717033,  0.03186954,  1.52522593, -1.03095441])"
      ]
     },
     "execution_count": 134,
     "metadata": {},
     "output_type": "execute_result"
    }
   ],
   "source": [
    "residual = y_real - y_estim\n",
    "residual"
   ]
  },
  {
   "cell_type": "code",
   "execution_count": 144,
   "id": "138ecbbd",
   "metadata": {},
   "outputs": [
    {
     "data": {
      "text/plain": [
       "0.0044584334629002645"
      ]
     },
     "execution_count": 144,
     "metadata": {},
     "output_type": "execute_result"
    }
   ],
   "source": [
    "den = sum((x - np.mean(x))**2)\n",
    "num = sum(residual**2)/(30-2)\n",
    "err = np.sqrt(num / den)\n",
    "err"
   ]
  }
 ],
 "metadata": {
  "kernelspec": {
   "display_name": "Python 3 (ipykernel)",
   "language": "python",
   "name": "python3"
  },
  "language_info": {
   "codemirror_mode": {
    "name": "ipython",
    "version": 3
   },
   "file_extension": ".py",
   "mimetype": "text/x-python",
   "name": "python",
   "nbconvert_exporter": "python",
   "pygments_lexer": "ipython3",
   "version": "3.9.7"
  }
 },
 "nbformat": 4,
 "nbformat_minor": 5
}
