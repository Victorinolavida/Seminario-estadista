{
 "cells": [
  {
   "cell_type": "code",
   "execution_count": 7,
   "id": "ed4f2565",
   "metadata": {},
   "outputs": [],
   "source": [
    "import pandas as pd\n",
    "from sklearn.model_selection import train_test_split\n",
    "from sklearn.impute import SimpleImputer\n",
    "from sklearn.preprocessing import OneHotEncoder\n",
    "from sklearn.compose import ColumnTransformer\n",
    "from sklearn.pipeline import Pipeline\n",
    "from sklearn.tree import DecisionTreeClassifier, export_graphviz\n",
    "from sklearn import metrics\n",
    "from pylab import*\n",
    "import seaborn as sns\n",
    "import numpy as np\n",
    "from sklearn.base import BaseEstimator, TransformerMixin\n",
    "from sklearn.model_selection import (GridSearchCV, cross_val_score,\n",
    "                                                 RandomizedSearchCV,\n",
    "                                                 cross_validate,\n",
    "                                                 StratifiedKFold)\n",
    "from sklearn.metrics import roc_auc_score, roc_curve, mean_squared_error, precision_recall_curve,  accuracy_score\n"
   ]
  },
  {
   "cell_type": "code",
   "execution_count": 8,
   "id": "611ff394",
   "metadata": {},
   "outputs": [],
   "source": [
    "def performance_evaluation_report(model, X_test, y_test, show_plot=False, labels=None, show_pr_curve=False):\n",
    "\n",
    "    y_pred = model.predict(X_test)\n",
    "    y_pred_prob = model.predict_proba(X_test)[:, 1]\n",
    "\n",
    "    cm = metrics.confusion_matrix(y_test, y_pred)\n",
    "    tn, fp, fn, tp = cm.ravel()\n",
    "\n",
    "    fpr, tpr, threshold = metrics.roc_curve(y_test, y_pred_prob)\n",
    "    roc_auc = metrics.auc(fpr, tpr)\n",
    "\n",
    "    precision, recall, thresholds = metrics.precision_recall_curve(\n",
    "        y_test, y_pred_prob)\n",
    "    pr_auc = metrics.auc(recall, precision)\n",
    "\n",
    "    if show_plot:\n",
    "\n",
    "        if labels is None:\n",
    "            labels = ['Negative', 'Positive']\n",
    "\n",
    "        N_SUBPLOTS = 3 if show_pr_curve else 2\n",
    "        PLOT_WIDTH = 15 if show_pr_curve else 12\n",
    "        PLOT_HEIGHT = 5 if show_pr_curve else 6\n",
    "\n",
    "        fig, ax = plt.subplots(\n",
    "            1, N_SUBPLOTS, figsize=(PLOT_WIDTH, PLOT_HEIGHT))\n",
    "        fig.suptitle('Performance Evaluation', fontsize=16)\n",
    "\n",
    "        sns.heatmap(cm, annot=True, fmt=\"d\", linewidths=.5, cmap='BuGn_r', square=True, cbar=False, ax=ax[0],\n",
    "                    annot_kws={\"ha\": 'center', \"va\": 'center'})\n",
    "        ax[0].set(xlabel='Predicted label',\n",
    "                  ylabel='Actual label', title='Confusion Matrix')\n",
    "        ax[0].xaxis.set_ticklabels(labels)\n",
    "        ax[0].yaxis.set_ticklabels(labels)\n",
    "\n",
    "        ax[1].plot(fpr, tpr, 'b-', label=f'ROC-AUC = {roc_auc:.2f}')\n",
    "        ax[1].set(xlabel='False Positive Rate',\n",
    "                  ylabel='True Positive Rate', title='ROC Curve')\n",
    "        ax[1].plot(fp/(fp+tn), tp/(tp+fn), 'ro',\n",
    "                   markersize=8, label='Decision Point')\n",
    "        ax[1].plot([0, 1], [0, 1], 'r--')\n",
    "        ax[1].legend(loc='lower right')\n",
    "\n",
    "        if show_pr_curve:\n",
    "\n",
    "            ax[2].plot(recall, precision, label=f'PR-AUC = {pr_auc:.2f}')\n",
    "            ax[2].set(xlabel='Recall', ylabel='Precision',\n",
    "                      title='Precision-Recall Curve')\n",
    "            ax[2].legend()\n",
    "\n",
    "    stats = {'accuracy': metrics.accuracy_score(y_test, y_pred),\n",
    "             'precision': metrics.precision_score(y_test, y_pred),\n",
    "             'recall': metrics.recall_score(y_test, y_pred),\n",
    "             'specificity': (tn / (tn + fp)),\n",
    "             'f1_score': metrics.f1_score(y_test, y_pred),\n",
    "             'cohens_kappa': metrics.cohen_kappa_score(y_test, y_pred),\n",
    "             'roc_auc': roc_auc,\n",
    "             'pr_auc': pr_auc}\n",
    "\n",
    "    return stats"
   ]
  },
  {
   "cell_type": "code",
   "execution_count": 9,
   "id": "5b16f783",
   "metadata": {},
   "outputs": [],
   "source": [
    "class OutlierRemover(BaseEstimator, TransformerMixin):\n",
    "    def __init__(self, n_std=3):\n",
    "        self.n_std = n_std\n",
    "    \n",
    "    def fit(self, X, y = None):\n",
    "        if np.isnan(X).any(axis=None):\n",
    "            raise ValueError('''There are missing values in the array! \n",
    "                                Please remove them.''')\n",
    "\n",
    "        mean_vec = np.mean(X, axis=0)\n",
    "        std_vec = np.std(X, axis=0)\n",
    "        \n",
    "        self.upper_band_ = mean_vec + self.n_std * std_vec\n",
    "        self.lower_band_ = mean_vec - self.n_std * std_vec\n",
    "        self.n_features_ = len(self.upper_band_)\n",
    "        \n",
    "        return self \n",
    "    \n",
    "    def transform(self, X, y = None):\n",
    "        X_copy = pd.DataFrame(X.copy())\n",
    "        \n",
    "        upper_band = np.repeat(\n",
    "            self.upper_band_.reshape(self.n_features_, -1), \n",
    "            len(X_copy), \n",
    "            axis=1).transpose()\n",
    "        lower_band = np.repeat(\n",
    "            self.lower_band_.reshape(self.n_features_, -1), \n",
    "            len(X_copy), \n",
    "            axis=1).transpose()\n",
    "        \n",
    "        X_copy[X_copy >= upper_band] = upper_band\n",
    "        X_copy[X_copy <= lower_band] = lower_band\n",
    "        \n",
    "        return X_copy.values"
   ]
  },
  {
   "cell_type": "code",
   "execution_count": 10,
   "id": "f771b0b1",
   "metadata": {},
   "outputs": [
    {
     "name": "stdout",
     "output_type": "stream",
     "text": [
      "<class 'pandas.core.frame.DataFrame'>\n",
      "RangeIndex: 50000 entries, 0 to 49999\n",
      "Data columns (total 17 columns):\n",
      " #   Column         Non-Null Count  Dtype  \n",
      "---  ------         --------------  -----  \n",
      " 0   _id_           50000 non-null  int64  \n",
      " 1   _id2_          50000 non-null  int64  \n",
      " 2   comp_mixto1    50000 non-null  float64\n",
      " 3   comp_externo1  50000 non-null  float64\n",
      " 4   comp_externo2  50000 non-null  float64\n",
      " 5   comp_externo3  50000 non-null  int64  \n",
      " 6   comp_externo4  50000 non-null  float64\n",
      " 7   fecha_inicio   50000 non-null  object \n",
      " 8   comp_interno1  50000 non-null  float64\n",
      " 9   comp_interno2  50000 non-null  object \n",
      " 10  comp_interno3  50000 non-null  int64  \n",
      " 11  comp_interno4  50000 non-null  int64  \n",
      " 12  categoria1     50000 non-null  int64  \n",
      " 13  categoria2     50000 non-null  int64  \n",
      " 14  categoria3     50000 non-null  int64  \n",
      " 15  inversion      50000 non-null  float64\n",
      " 16  Y              50000 non-null  int64  \n",
      "dtypes: float64(6), int64(9), object(2)\n",
      "memory usage: 6.5+ MB\n"
     ]
    }
   ],
   "source": [
    "ruta=\"/Users/Naye/Documents/python/Seminario-estadista/tarea2/\"\n",
    "base=\"tabla.xlsx\"\n",
    "df = pd.read_excel(ruta+base, sheet_name=0)\n",
    "df.info()"
   ]
  },
  {
   "cell_type": "code",
   "execution_count": 11,
   "id": "1cd3c9cc",
   "metadata": {},
   "outputs": [],
   "source": [
    "X = df[[\"_id_\",\"_id2_\",\"comp_mixto1\",\"comp_externo1\",\"comp_externo2\",\"comp_externo3\",\"comp_externo4\",\"comp_interno1\",\"comp_interno2\",\"comp_interno3\",\"comp_interno4\",\"categoria1\",\"categoria2\",\"categoria3\",\"inversion\"\n",
    ",\"Y\"]].copy()\n",
    "y = X.pop('Y')\n"
   ]
  },
  {
   "cell_type": "code",
   "execution_count": 12,
   "id": "dd414d40",
   "metadata": {},
   "outputs": [],
   "source": [
    "X_train, X_test, y_train, y_test = train_test_split(X, y,test_size=0.2,stratify=y)"
   ]
  },
  {
   "cell_type": "code",
   "execution_count": 13,
   "id": "4e681238",
   "metadata": {},
   "outputs": [
    {
     "data": {
      "text/plain": [
       "['_id_',\n",
       " '_id2_',\n",
       " 'comp_mixto1',\n",
       " 'comp_externo1',\n",
       " 'comp_externo2',\n",
       " 'comp_externo3',\n",
       " 'comp_externo4',\n",
       " 'comp_interno1',\n",
       " 'comp_interno3',\n",
       " 'comp_interno4',\n",
       " 'categoria1',\n",
       " 'categoria2',\n",
       " 'categoria3',\n",
       " 'inversion']"
      ]
     },
     "execution_count": 13,
     "metadata": {},
     "output_type": "execute_result"
    }
   ],
   "source": [
    "num_features = X_train.select_dtypes(include='number').columns.to_list()\n",
    "num_features"
   ]
  },
  {
   "cell_type": "code",
   "execution_count": 14,
   "id": "f475f560",
   "metadata": {},
   "outputs": [
    {
     "data": {
      "text/plain": [
       "['comp_interno2']"
      ]
     },
     "execution_count": 14,
     "metadata": {},
     "output_type": "execute_result"
    }
   ],
   "source": [
    "cat_features = X_train.select_dtypes(include='object').columns.to_list()\n",
    "cat_features"
   ]
  },
  {
   "cell_type": "code",
   "execution_count": 15,
   "id": "2c36dda1",
   "metadata": {},
   "outputs": [],
   "source": [
    "num_pipeline = Pipeline(steps=[('imputer', SimpleImputer(strategy='median'))])\n",
    "cat_list = [list(X_train[col].dropna().unique()) for col in cat_features]\n",
    "\n",
    "cat_pipeline = Pipeline(steps=[('imputer', SimpleImputer(strategy='most_frequent')),\n",
    "                               ('onehot', OneHotEncoder(categories=cat_list, sparse=False,\n",
    "                                        handle_unknown='error', drop='first'))])"
   ]
  },
  {
   "cell_type": "code",
   "execution_count": 16,
   "id": "7d83718c",
   "metadata": {},
   "outputs": [],
   "source": [
    "preprocessor = ColumnTransformer(transformers=[\n",
    "               ('numerical', num_pipeline, num_features),\n",
    "               ('categorical', cat_pipeline, cat_features)],\n",
    "               remainder='drop')"
   ]
  },
  {
   "cell_type": "code",
   "execution_count": 17,
   "id": "cdd406f9",
   "metadata": {},
   "outputs": [],
   "source": [
    "dec_tree = DecisionTreeClassifier(random_state=42)\n",
    "tree_pipeline = Pipeline(steps=[('preprocessor', preprocessor),('classifier', dec_tree)])\n"
   ]
  },
  {
   "cell_type": "code",
   "execution_count": 76,
   "id": "6d030842",
   "metadata": {},
   "outputs": [
    {
     "data": {
      "text/plain": [
       "Pipeline(steps=[('preprocessor',\n",
       "                 ColumnTransformer(transformers=[('numerical',\n",
       "                                                  Pipeline(steps=[('imputer',\n",
       "                                                                   SimpleImputer(strategy='median'))]),\n",
       "                                                  ['_id_', '_id2_',\n",
       "                                                   'comp_mixto1',\n",
       "                                                   'comp_externo1',\n",
       "                                                   'comp_externo2',\n",
       "                                                   'comp_externo3',\n",
       "                                                   'comp_externo4',\n",
       "                                                   'comp_interno1',\n",
       "                                                   'comp_interno3',\n",
       "                                                   'comp_interno4',\n",
       "                                                   'categoria1', 'categoria2',\n",
       "                                                   'categoria3', 'inversion']),\n",
       "                                                 ('categorical',\n",
       "                                                  Pipeline(steps=[('imputer',\n",
       "                                                                   SimpleImputer(strategy='most_frequent')),\n",
       "                                                                  ('onehot',\n",
       "                                                                   OneHotEncoder(categories=[[\"b'1'\",\n",
       "                                                                                              \"b'0'\"]],\n",
       "                                                                                 drop='first',\n",
       "                                                                                 sparse=False))]),\n",
       "                                                  ['comp_interno2'])])),\n",
       "                ('classifier', DecisionTreeClassifier(random_state=42))])"
      ]
     },
     "execution_count": 76,
     "metadata": {},
     "output_type": "execute_result"
    }
   ],
   "source": [
    "tree_pipeline.fit(X_train, y_train)"
   ]
  },
  {
   "cell_type": "code",
   "execution_count": 77,
   "id": "feee6db7",
   "metadata": {},
   "outputs": [
    {
     "data": {
      "image/png": "[encoded data removed]",
      "text/plain": [
       "<Figure size 864x432 with 2 Axes>"
      ]
     },
     "metadata": {
      "needs_background": "light"
     },
     "output_type": "display_data"
    }
   ],
   "source": [
    "LABELS = ['Bueno', 'Malo']\n",
    "tree_perf = performance_evaluation_report(tree_pipeline, X_test,y_test, labels=LABELS,show_plot=True)"
   ]
  },
  {
   "cell_type": "code",
   "execution_count": 80,
   "id": "0149bfea",
   "metadata": {},
   "outputs": [],
   "source": [
    "num_pipeline = Pipeline(steps=[\n",
    "    ('imputer', SimpleImputer(strategy='median')),\n",
    "    ('outliers', OutlierRemover())])"
   ]
  },
  {
   "cell_type": "code",
   "execution_count": 81,
   "id": "6119cf32",
   "metadata": {},
   "outputs": [
    {
     "data": {
      "image/png": "[encoded data removed]",
      "text/plain": [
       "<Figure size 864x432 with 2 Axes>"
      ]
     },
     "metadata": {
      "needs_background": "light"
     },
     "output_type": "display_data"
    }
   ],
   "source": [
    "preprocessor = ColumnTransformer(transformers=[('numerical', num_pipeline, num_features),\n",
    "                                               ('categorical', cat_pipeline, cat_features)],\n",
    "                                 remainder='drop')\n",
    "\n",
    "dec_tree = DecisionTreeClassifier(random_state=42)\n",
    "\n",
    "tree_pipeline = Pipeline(steps=[('preprocessor', preprocessor),\n",
    "                                ('classifier', dec_tree)])\n",
    "\n",
    "tree_pipeline.fit(X_train, y_train)\n",
    "\n",
    "tree_perf = performance_evaluation_report(tree_pipeline, X_test, \n",
    "                                          y_test, labels=LABELS, \n",
    "                                          show_plot=True)\n",
    "\n",
    "plt.tight_layout()\n",
    "# plt.savefig('images/ch8_im18.png')\n",
    "plt.show()"
   ]
  },
  {
   "cell_type": "code",
   "execution_count": 84,
   "id": "58676aa9",
   "metadata": {},
   "outputs": [
    {
     "data": {
      "text/plain": [
       "array([0.89125 , 0.886   , 0.89025 , 0.89325 , 0.890625])"
      ]
     },
     "execution_count": 84,
     "metadata": {},
     "output_type": "execute_result"
    }
   ],
   "source": [
    "k_fold = StratifiedKFold(5, shuffle=True, random_state=42)\n",
    "cross_val_score(tree_pipeline, X_train, y_train, cv=k_fold)"
   ]
  },
  {
   "cell_type": "code",
   "execution_count": 85,
   "id": "5e1775f6",
   "metadata": {},
   "outputs": [
    {
     "data": {
      "text/plain": [
       "{'fit_time': array([0.71056342, 0.88745403, 0.85247588, 0.74254394, 0.93542552]),\n",
       " 'score_time': array([0.10293603, 0.08894753, 0.08994508, 0.12492347, 0.10993171]),\n",
       " 'test_accuracy': array([0.89125 , 0.886   , 0.89025 , 0.89325 , 0.890625]),\n",
       " 'test_precision': array([0.94082576, 0.9423019 , 0.94048329, 0.94187779, 0.94143135]),\n",
       " 'test_recall': array([0.9302874 , 0.92202241, 0.92939269, 0.93160377, 0.92880307]),\n",
       " 'test_roc_auc': array([0.80176921, 0.80352765, 0.80063384, 0.80544004, 0.80321732])}"
      ]
     },
     "execution_count": 85,
     "metadata": {},
     "output_type": "execute_result"
    }
   ],
   "source": [
    "cross_validate(tree_pipeline, X_train, y_train, cv=k_fold,\n",
    "                           scoring=['accuracy', 'precision', 'recall','roc_auc'])"
   ]
  },
  {
   "cell_type": "code",
   "execution_count": 87,
   "id": "4e7a77d1",
   "metadata": {},
   "outputs": [
    {
     "name": "stdout",
     "output_type": "stream",
     "text": [
      "Fitting 5 folds for each of 144 candidates, totalling 720 fits\n"
     ]
    },
    {
     "data": {
      "text/plain": [
       "GridSearchCV(cv=StratifiedKFold(n_splits=5, random_state=42, shuffle=True),\n",
       "             estimator=Pipeline(steps=[('preprocessor',\n",
       "                                        ColumnTransformer(transformers=[('numerical',\n",
       "                                                                         Pipeline(steps=[('imputer',\n",
       "                                                                                          SimpleImputer(strategy='median')),\n",
       "                                                                                         ('outliers',\n",
       "                                                                                          OutlierRemover())]),\n",
       "                                                                         ['_id_',\n",
       "                                                                          '_id2_',\n",
       "                                                                          'comp_mixto1',\n",
       "                                                                          'comp_externo1',\n",
       "                                                                          'comp_externo2',\n",
       "                                                                          'comp_externo3',\n",
       "                                                                          'comp_externo4',\n",
       "                                                                          'co...\n",
       "                                                                                          SimpleImputer(strategy='most_frequent')),\n",
       "                                                                                         ('onehot',\n",
       "                                                                                          OneHotEncoder(categories=[[\"b'1'\",\n",
       "                                                                                                                     \"b'0'\"]],\n",
       "                                                                                                        drop='first',\n",
       "                                                                                                        sparse=False))]),\n",
       "                                                                         ['comp_interno2'])])),\n",
       "                                       ('classifier',\n",
       "                                        DecisionTreeClassifier(random_state=42))]),\n",
       "             n_jobs=-1,\n",
       "             param_grid={'classifier__criterion': ['entropy', 'gini'],\n",
       "                         'classifier__max_depth': range(3, 11),\n",
       "                         'classifier__min_samples_leaf': range(2, 11)},\n",
       "             scoring='recall', verbose=1)"
      ]
     },
     "execution_count": 87,
     "metadata": {},
     "output_type": "execute_result"
    }
   ],
   "source": [
    "param_grid = {'classifier__criterion': ['entropy', 'gini'],\n",
    "               'classifier__max_depth': range(3, 11),\n",
    "               'classifier__min_samples_leaf': range(2, 11)}\n",
    "classifier_gs = GridSearchCV(tree_pipeline, param_grid,scoring='recall',cv=k_fold, n_jobs=-1, verbose=1)\n",
    "classifier_gs.fit(X_train, y_train)"
   ]
  },
  {
   "cell_type": "code",
   "execution_count": 88,
   "id": "c0a165bc",
   "metadata": {},
   "outputs": [
    {
     "name": "stdout",
     "output_type": "stream",
     "text": [
      "Best parameters: {'classifier__criterion': 'entropy', 'classifier__max_depth': 3, 'classifier__min_samples_leaf': 2}\n",
      "Recall (Training set): 1.0000\n",
      "Recall (Test set): 1.0000\n"
     ]
    }
   ],
   "source": [
    "print(f'Best parameters: {classifier_gs.best_params_}') \n",
    "print(f'Recall (Training set): {classifier_gs.best_score_:.4f}') \n",
    "print(f'Recall (Test set): {metrics.recall_score(y_test, classifier_gs.predict(X_test)):.4f}')"
   ]
  },
  {
   "cell_type": "code",
   "execution_count": 89,
   "id": "efae4cc5",
   "metadata": {},
   "outputs": [
    {
     "data": {
      "image/png": "[encoded data removed]",
      "text/plain": [
       "<Figure size 864x432 with 2 Axes>"
      ]
     },
     "metadata": {
      "needs_background": "light"
     },
     "output_type": "display_data"
    }
   ],
   "source": [
    "LABELS = ['No Default', 'Default']\n",
    "tree_gs_perf = performance_evaluation_report(classifier_gs, X_test, \n",
    "                                             y_test, labels=LABELS, \n",
    "                                             show_plot=True)\n",
    "\n",
    "plt.tight_layout()\n",
    "#plt.savefig('images/ch8_im20.png')\n",
    "plt.show()"
   ]
  },
  {
   "cell_type": "code",
   "execution_count": 91,
   "id": "1fe4d643",
   "metadata": {},
   "outputs": [
    {
     "name": "stdout",
     "output_type": "stream",
     "text": [
      "1 2 3 4 5 6 7 8 9 10 11 12 13 14 15 16 17 18 19 20 21 22 23 24 25 "
     ]
    }
   ],
   "source": [
    "train_scores, val_scores, leaves = {}, {}, {}\n",
    "for max_depth in range(1, 26):\n",
    "    print(max_depth, end=' ', flush=True)\n",
    "    reg_tree = DecisionTreeClassifier(criterion='gini',\n",
    "                                          max_depth=max_depth,\n",
    "                                          min_samples_leaf=10,\n",
    "                                          random_state=42)\n",
    "    tree_pipeline = Pipeline(steps=[('preprocessor', preprocessor),('classifier', reg_tree)])\n",
    "    train_scores[max_depth], val_scores[max_depth], leaves[max_depth] = [],[], []\n",
    "    for train_idx, test_idx in k_fold.split(X_train,y_train):\n",
    "        X_t, y_t,  = X_train.iloc[train_idx], y_train.iloc[train_idx]\n",
    "        X_te, y_te = X_train.iloc[test_idx], y_train.iloc[test_idx]\n",
    "        tree_pipeline.fit(X_t, y_t)\n",
    "        train_pred = tree_pipeline.predict_proba(X=X_t)[:, 1]\n",
    "        train_score = roc_auc_score(y_score=train_pred, y_true=y_t)\n",
    "        #print(train_score)\n",
    "        train_scores[max_depth].append(train_score)\n",
    "\n",
    "        test_pred = tree_pipeline.predict_proba(X=X_te)[:, 1]\n",
    "        val_score = roc_auc_score(y_score=test_pred, y_true=y_te)\n",
    "        val_scores[max_depth].append(val_score)  \n",
    "        #print(val_score)\n",
    "        leaves[max_depth].append(max_depth)"
   ]
  },
  {
   "cell_type": "code",
   "execution_count": 92,
   "id": "4d68976e",
   "metadata": {},
   "outputs": [
    {
     "data": {
      "text/plain": [
       "{1: [1, 1, 1, 1, 1],\n",
       " 2: [2, 2, 2, 2, 2],\n",
       " 3: [3, 3, 3, 3, 3],\n",
       " 4: [4, 4, 4, 4, 4],\n",
       " 5: [5, 5, 5, 5, 5],\n",
       " 6: [6, 6, 6, 6, 6],\n",
       " 7: [7, 7, 7, 7, 7],\n",
       " 8: [8, 8, 8, 8, 8],\n",
       " 9: [9, 9, 9, 9, 9],\n",
       " 10: [10, 10, 10, 10, 10],\n",
       " 11: [11, 11, 11, 11, 11],\n",
       " 12: [12, 12, 12, 12, 12],\n",
       " 13: [13, 13, 13, 13, 13],\n",
       " 14: [14, 14, 14, 14, 14],\n",
       " 15: [15, 15, 15, 15, 15],\n",
       " 16: [16, 16, 16, 16, 16],\n",
       " 17: [17, 17, 17, 17, 17],\n",
       " 18: [18, 18, 18, 18, 18],\n",
       " 19: [19, 19, 19, 19, 19],\n",
       " 20: [20, 20, 20, 20, 20],\n",
       " 21: [21, 21, 21, 21, 21],\n",
       " 22: [22, 22, 22, 22, 22],\n",
       " 23: [23, 23, 23, 23, 23],\n",
       " 24: [24, 24, 24, 24, 24],\n",
       " 25: [25, 25, 25, 25, 25]}"
      ]
     },
     "execution_count": 92,
     "metadata": {},
     "output_type": "execute_result"
    }
   ],
   "source": [
    "clf_train_scores = pd.DataFrame(train_scores)\n",
    "clf_valid_scores = pd.DataFrame(val_scores)\n",
    "bd_leaves = pd.DataFrame(leaves)\n",
    "leaves"
   ]
  },
  {
   "cell_type": "code",
   "execution_count": 93,
   "id": "28b4a063",
   "metadata": {},
   "outputs": [
    {
     "data": {
      "text/html": [
       "<div>\n",
       "<style scoped>\n",
       "    .dataframe tbody tr th:only-of-type {\n",
       "        vertical-align: middle;\n",
       "    }\n",
       "\n",
       "    .dataframe tbody tr th {\n",
       "        vertical-align: top;\n",
       "    }\n",
       "\n",
       "    .dataframe thead th {\n",
       "        text-align: right;\n",
       "    }\n",
       "</style>\n",
       "<table border=\"1\" class=\"dataframe\">\n",
       "  <thead>\n",
       "    <tr style=\"text-align: right;\">\n",
       "      <th></th>\n",
       "      <th>1</th>\n",
       "      <th>2</th>\n",
       "      <th>3</th>\n",
       "      <th>4</th>\n",
       "      <th>5</th>\n",
       "      <th>6</th>\n",
       "      <th>7</th>\n",
       "      <th>8</th>\n",
       "      <th>9</th>\n",
       "      <th>10</th>\n",
       "      <th>...</th>\n",
       "      <th>16</th>\n",
       "      <th>17</th>\n",
       "      <th>18</th>\n",
       "      <th>19</th>\n",
       "      <th>20</th>\n",
       "      <th>21</th>\n",
       "      <th>22</th>\n",
       "      <th>23</th>\n",
       "      <th>24</th>\n",
       "      <th>25</th>\n",
       "    </tr>\n",
       "  </thead>\n",
       "  <tbody>\n",
       "    <tr>\n",
       "      <th>0</th>\n",
       "      <td>0.818257</td>\n",
       "      <td>0.847169</td>\n",
       "      <td>0.854908</td>\n",
       "      <td>0.866700</td>\n",
       "      <td>0.873876</td>\n",
       "      <td>0.881826</td>\n",
       "      <td>0.888381</td>\n",
       "      <td>0.896475</td>\n",
       "      <td>0.907419</td>\n",
       "      <td>0.918763</td>\n",
       "      <td>...</td>\n",
       "      <td>0.970561</td>\n",
       "      <td>0.972948</td>\n",
       "      <td>0.974616</td>\n",
       "      <td>0.976167</td>\n",
       "      <td>0.976878</td>\n",
       "      <td>0.977236</td>\n",
       "      <td>0.977532</td>\n",
       "      <td>0.977652</td>\n",
       "      <td>0.977700</td>\n",
       "      <td>0.977724</td>\n",
       "    </tr>\n",
       "    <tr>\n",
       "      <th>1</th>\n",
       "      <td>0.818014</td>\n",
       "      <td>0.848941</td>\n",
       "      <td>0.853243</td>\n",
       "      <td>0.863299</td>\n",
       "      <td>0.873213</td>\n",
       "      <td>0.880271</td>\n",
       "      <td>0.887452</td>\n",
       "      <td>0.896080</td>\n",
       "      <td>0.907270</td>\n",
       "      <td>0.919955</td>\n",
       "      <td>...</td>\n",
       "      <td>0.971561</td>\n",
       "      <td>0.973537</td>\n",
       "      <td>0.975022</td>\n",
       "      <td>0.976041</td>\n",
       "      <td>0.976581</td>\n",
       "      <td>0.976892</td>\n",
       "      <td>0.977133</td>\n",
       "      <td>0.977176</td>\n",
       "      <td>0.977221</td>\n",
       "      <td>0.977228</td>\n",
       "    </tr>\n",
       "    <tr>\n",
       "      <th>2</th>\n",
       "      <td>0.819042</td>\n",
       "      <td>0.845307</td>\n",
       "      <td>0.854285</td>\n",
       "      <td>0.868026</td>\n",
       "      <td>0.875348</td>\n",
       "      <td>0.883791</td>\n",
       "      <td>0.888684</td>\n",
       "      <td>0.895188</td>\n",
       "      <td>0.904942</td>\n",
       "      <td>0.915959</td>\n",
       "      <td>...</td>\n",
       "      <td>0.969295</td>\n",
       "      <td>0.972512</td>\n",
       "      <td>0.974288</td>\n",
       "      <td>0.975469</td>\n",
       "      <td>0.976489</td>\n",
       "      <td>0.977067</td>\n",
       "      <td>0.977345</td>\n",
       "      <td>0.977465</td>\n",
       "      <td>0.977515</td>\n",
       "      <td>0.977541</td>\n",
       "    </tr>\n",
       "    <tr>\n",
       "      <th>3</th>\n",
       "      <td>0.816677</td>\n",
       "      <td>0.845357</td>\n",
       "      <td>0.858406</td>\n",
       "      <td>0.870596</td>\n",
       "      <td>0.876588</td>\n",
       "      <td>0.883475</td>\n",
       "      <td>0.890477</td>\n",
       "      <td>0.897088</td>\n",
       "      <td>0.907392</td>\n",
       "      <td>0.919399</td>\n",
       "      <td>...</td>\n",
       "      <td>0.972412</td>\n",
       "      <td>0.975008</td>\n",
       "      <td>0.976391</td>\n",
       "      <td>0.977092</td>\n",
       "      <td>0.977427</td>\n",
       "      <td>0.977772</td>\n",
       "      <td>0.977988</td>\n",
       "      <td>0.978044</td>\n",
       "      <td>0.978046</td>\n",
       "      <td>0.978046</td>\n",
       "    </tr>\n",
       "    <tr>\n",
       "      <th>4</th>\n",
       "      <td>0.816677</td>\n",
       "      <td>0.845503</td>\n",
       "      <td>0.857060</td>\n",
       "      <td>0.867323</td>\n",
       "      <td>0.871967</td>\n",
       "      <td>0.877489</td>\n",
       "      <td>0.887724</td>\n",
       "      <td>0.896073</td>\n",
       "      <td>0.906041</td>\n",
       "      <td>0.920405</td>\n",
       "      <td>...</td>\n",
       "      <td>0.974328</td>\n",
       "      <td>0.975836</td>\n",
       "      <td>0.976867</td>\n",
       "      <td>0.977236</td>\n",
       "      <td>0.977409</td>\n",
       "      <td>0.977460</td>\n",
       "      <td>0.977465</td>\n",
       "      <td>0.977465</td>\n",
       "      <td>0.977465</td>\n",
       "      <td>0.977465</td>\n",
       "    </tr>\n",
       "  </tbody>\n",
       "</table>\n",
       "<p>5 rows × 25 columns</p>\n",
       "</div>"
      ],
      "text/plain": [
       "         1         2         3         4         5         6         7   \\\n",
       "0  0.818257  0.847169  0.854908  0.866700  0.873876  0.881826  0.888381   \n",
       "1  0.818014  0.848941  0.853243  0.863299  0.873213  0.880271  0.887452   \n",
       "2  0.819042  0.845307  0.854285  0.868026  0.875348  0.883791  0.888684   \n",
       "3  0.816677  0.845357  0.858406  0.870596  0.876588  0.883475  0.890477   \n",
       "4  0.816677  0.845503  0.857060  0.867323  0.871967  0.877489  0.887724   \n",
       "\n",
       "         8         9         10  ...        16        17        18        19  \\\n",
       "0  0.896475  0.907419  0.918763  ...  0.970561  0.972948  0.974616  0.976167   \n",
       "1  0.896080  0.907270  0.919955  ...  0.971561  0.973537  0.975022  0.976041   \n",
       "2  0.895188  0.904942  0.915959  ...  0.969295  0.972512  0.974288  0.975469   \n",
       "3  0.897088  0.907392  0.919399  ...  0.972412  0.975008  0.976391  0.977092   \n",
       "4  0.896073  0.906041  0.920405  ...  0.974328  0.975836  0.976867  0.977236   \n",
       "\n",
       "         20        21        22        23        24        25  \n",
       "0  0.976878  0.977236  0.977532  0.977652  0.977700  0.977724  \n",
       "1  0.976581  0.976892  0.977133  0.977176  0.977221  0.977228  \n",
       "2  0.976489  0.977067  0.977345  0.977465  0.977515  0.977541  \n",
       "3  0.977427  0.977772  0.977988  0.978044  0.978046  0.978046  \n",
       "4  0.977409  0.977460  0.977465  0.977465  0.977465  0.977465  \n",
       "\n",
       "[5 rows x 25 columns]"
      ]
     },
     "execution_count": 93,
     "metadata": {},
     "output_type": "execute_result"
    }
   ],
   "source": [
    "clf_train_scores"
   ]
  },
  {
   "cell_type": "code",
   "execution_count": 94,
   "id": "e2cbd16e",
   "metadata": {},
   "outputs": [
    {
     "data": {
      "text/html": [
       "<div>\n",
       "<style scoped>\n",
       "    .dataframe tbody tr th:only-of-type {\n",
       "        vertical-align: middle;\n",
       "    }\n",
       "\n",
       "    .dataframe tbody tr th {\n",
       "        vertical-align: top;\n",
       "    }\n",
       "\n",
       "    .dataframe thead th {\n",
       "        text-align: right;\n",
       "    }\n",
       "</style>\n",
       "<table border=\"1\" class=\"dataframe\">\n",
       "  <thead>\n",
       "    <tr style=\"text-align: right;\">\n",
       "      <th></th>\n",
       "      <th>1</th>\n",
       "      <th>2</th>\n",
       "      <th>3</th>\n",
       "      <th>4</th>\n",
       "      <th>5</th>\n",
       "      <th>6</th>\n",
       "      <th>7</th>\n",
       "      <th>8</th>\n",
       "      <th>9</th>\n",
       "      <th>10</th>\n",
       "      <th>...</th>\n",
       "      <th>16</th>\n",
       "      <th>17</th>\n",
       "      <th>18</th>\n",
       "      <th>19</th>\n",
       "      <th>20</th>\n",
       "      <th>21</th>\n",
       "      <th>22</th>\n",
       "      <th>23</th>\n",
       "      <th>24</th>\n",
       "      <th>25</th>\n",
       "    </tr>\n",
       "  </thead>\n",
       "  <tbody>\n",
       "    <tr>\n",
       "      <th>0</th>\n",
       "      <td>0.815638</td>\n",
       "      <td>0.839383</td>\n",
       "      <td>0.847272</td>\n",
       "      <td>0.867089</td>\n",
       "      <td>0.870652</td>\n",
       "      <td>0.876833</td>\n",
       "      <td>0.877477</td>\n",
       "      <td>0.875271</td>\n",
       "      <td>0.865844</td>\n",
       "      <td>0.866006</td>\n",
       "      <td>...</td>\n",
       "      <td>0.840323</td>\n",
       "      <td>0.839618</td>\n",
       "      <td>0.838212</td>\n",
       "      <td>0.837923</td>\n",
       "      <td>0.838630</td>\n",
       "      <td>0.840085</td>\n",
       "      <td>0.840824</td>\n",
       "      <td>0.841207</td>\n",
       "      <td>0.839462</td>\n",
       "      <td>0.839972</td>\n",
       "    </tr>\n",
       "    <tr>\n",
       "      <th>1</th>\n",
       "      <td>0.816612</td>\n",
       "      <td>0.842620</td>\n",
       "      <td>0.845060</td>\n",
       "      <td>0.854943</td>\n",
       "      <td>0.866690</td>\n",
       "      <td>0.865508</td>\n",
       "      <td>0.864170</td>\n",
       "      <td>0.862351</td>\n",
       "      <td>0.855690</td>\n",
       "      <td>0.856061</td>\n",
       "      <td>...</td>\n",
       "      <td>0.833642</td>\n",
       "      <td>0.833836</td>\n",
       "      <td>0.836843</td>\n",
       "      <td>0.834677</td>\n",
       "      <td>0.836965</td>\n",
       "      <td>0.839010</td>\n",
       "      <td>0.837664</td>\n",
       "      <td>0.837454</td>\n",
       "      <td>0.837034</td>\n",
       "      <td>0.837416</td>\n",
       "    </tr>\n",
       "    <tr>\n",
       "      <th>2</th>\n",
       "      <td>0.812500</td>\n",
       "      <td>0.848717</td>\n",
       "      <td>0.851838</td>\n",
       "      <td>0.858383</td>\n",
       "      <td>0.862685</td>\n",
       "      <td>0.867813</td>\n",
       "      <td>0.869331</td>\n",
       "      <td>0.863566</td>\n",
       "      <td>0.855824</td>\n",
       "      <td>0.851004</td>\n",
       "      <td>...</td>\n",
       "      <td>0.841787</td>\n",
       "      <td>0.841174</td>\n",
       "      <td>0.838360</td>\n",
       "      <td>0.839045</td>\n",
       "      <td>0.838941</td>\n",
       "      <td>0.838741</td>\n",
       "      <td>0.840692</td>\n",
       "      <td>0.840815</td>\n",
       "      <td>0.840372</td>\n",
       "      <td>0.840896</td>\n",
       "    </tr>\n",
       "    <tr>\n",
       "      <th>3</th>\n",
       "      <td>0.821957</td>\n",
       "      <td>0.848458</td>\n",
       "      <td>0.856748</td>\n",
       "      <td>0.865324</td>\n",
       "      <td>0.867133</td>\n",
       "      <td>0.867569</td>\n",
       "      <td>0.868584</td>\n",
       "      <td>0.861105</td>\n",
       "      <td>0.853199</td>\n",
       "      <td>0.847756</td>\n",
       "      <td>...</td>\n",
       "      <td>0.837839</td>\n",
       "      <td>0.837787</td>\n",
       "      <td>0.839770</td>\n",
       "      <td>0.841071</td>\n",
       "      <td>0.843636</td>\n",
       "      <td>0.842606</td>\n",
       "      <td>0.842921</td>\n",
       "      <td>0.843678</td>\n",
       "      <td>0.843889</td>\n",
       "      <td>0.843889</td>\n",
       "    </tr>\n",
       "    <tr>\n",
       "      <th>4</th>\n",
       "      <td>0.821546</td>\n",
       "      <td>0.847425</td>\n",
       "      <td>0.854874</td>\n",
       "      <td>0.861829</td>\n",
       "      <td>0.865618</td>\n",
       "      <td>0.868694</td>\n",
       "      <td>0.870259</td>\n",
       "      <td>0.872381</td>\n",
       "      <td>0.865713</td>\n",
       "      <td>0.862294</td>\n",
       "      <td>...</td>\n",
       "      <td>0.834795</td>\n",
       "      <td>0.840384</td>\n",
       "      <td>0.840146</td>\n",
       "      <td>0.841412</td>\n",
       "      <td>0.840043</td>\n",
       "      <td>0.841084</td>\n",
       "      <td>0.841015</td>\n",
       "      <td>0.841015</td>\n",
       "      <td>0.841015</td>\n",
       "      <td>0.841015</td>\n",
       "    </tr>\n",
       "  </tbody>\n",
       "</table>\n",
       "<p>5 rows × 25 columns</p>\n",
       "</div>"
      ],
      "text/plain": [
       "         1         2         3         4         5         6         7   \\\n",
       "0  0.815638  0.839383  0.847272  0.867089  0.870652  0.876833  0.877477   \n",
       "1  0.816612  0.842620  0.845060  0.854943  0.866690  0.865508  0.864170   \n",
       "2  0.812500  0.848717  0.851838  0.858383  0.862685  0.867813  0.869331   \n",
       "3  0.821957  0.848458  0.856748  0.865324  0.867133  0.867569  0.868584   \n",
       "4  0.821546  0.847425  0.854874  0.861829  0.865618  0.868694  0.870259   \n",
       "\n",
       "         8         9         10  ...        16        17        18        19  \\\n",
       "0  0.875271  0.865844  0.866006  ...  0.840323  0.839618  0.838212  0.837923   \n",
       "1  0.862351  0.855690  0.856061  ...  0.833642  0.833836  0.836843  0.834677   \n",
       "2  0.863566  0.855824  0.851004  ...  0.841787  0.841174  0.838360  0.839045   \n",
       "3  0.861105  0.853199  0.847756  ...  0.837839  0.837787  0.839770  0.841071   \n",
       "4  0.872381  0.865713  0.862294  ...  0.834795  0.840384  0.840146  0.841412   \n",
       "\n",
       "         20        21        22        23        24        25  \n",
       "0  0.838630  0.840085  0.840824  0.841207  0.839462  0.839972  \n",
       "1  0.836965  0.839010  0.837664  0.837454  0.837034  0.837416  \n",
       "2  0.838941  0.838741  0.840692  0.840815  0.840372  0.840896  \n",
       "3  0.843636  0.842606  0.842921  0.843678  0.843889  0.843889  \n",
       "4  0.840043  0.841084  0.841015  0.841015  0.841015  0.841015  \n",
       "\n",
       "[5 rows x 25 columns]"
      ]
     },
     "execution_count": 94,
     "metadata": {},
     "output_type": "execute_result"
    }
   ],
   "source": [
    "clf_valid_scores"
   ]
  },
  {
   "cell_type": "code",
   "execution_count": 95,
   "id": "ed35db6b",
   "metadata": {},
   "outputs": [],
   "source": [
    "roc_entrenamiento=[]\n",
    "for c in clf_train_scores.columns:\n",
    "    promedio_roc=mean(clf_train_scores[c])\n",
    "    roc_entrenamiento.append(promedio_roc)\n",
    "    \n",
    "roc_validacion=[]\n",
    "for c in clf_valid_scores.columns:\n",
    "    promedio_roc=mean(clf_valid_scores[c])\n",
    "    roc_validacion.append(promedio_roc)\n",
    "\n",
    "prof=[]\n",
    "for c in bd_leaves.columns:\n",
    "    id_=mean(bd_leaves[c])\n",
    "    prof.append(id_)"
   ]
  },
  {
   "cell_type": "code",
   "execution_count": 96,
   "id": "6044b032",
   "metadata": {},
   "outputs": [
    {
     "data": {
      "text/plain": [
       "[0.817733158273537,\n",
       " 0.8464555386483139,\n",
       " 0.8555802313263803,\n",
       " 0.8671888993195418,\n",
       " 0.8741983464920864,\n",
       " 0.881370457156831,\n",
       " 0.888543547752049,\n",
       " 0.896180787192818,\n",
       " 0.906612850810439,\n",
       " 0.9188959369642973,\n",
       " 0.931887207063904,\n",
       " 0.9436804647912276,\n",
       " 0.9541085168690955,\n",
       " 0.9621825753153583,\n",
       " 0.9679532212717682,\n",
       " 0.9716314919079588,\n",
       " 0.9739682187266311,\n",
       " 0.9754369921892225,\n",
       " 0.9764010844814294,\n",
       " 0.9769568370885248,\n",
       " 0.9772855778443983,\n",
       " 0.9774927958000041,\n",
       " 0.9775603691494716,\n",
       " 0.9775893633652,\n",
       " 0.9776008790310323]"
      ]
     },
     "execution_count": 96,
     "metadata": {},
     "output_type": "execute_result"
    }
   ],
   "source": [
    "roc_entrenamiento"
   ]
  },
  {
   "cell_type": "code",
   "execution_count": 97,
   "id": "537a2ca6",
   "metadata": {},
   "outputs": [
    {
     "data": {
      "text/plain": [
       "[0.8176505983322503,\n",
       " 0.8453207315770681,\n",
       " 0.8511585274647094,\n",
       " 0.8615136868060567,\n",
       " 0.8665556596783919,\n",
       " 0.8692833899447784,\n",
       " 0.869964318879029,\n",
       " 0.866934907448661,\n",
       " 0.8592540300784786,\n",
       " 0.856624363940593,\n",
       " 0.8491515332585859,\n",
       " 0.8453932147023367,\n",
       " 0.8424323540295211,\n",
       " 0.8394354919276319,\n",
       " 0.8382774546105194,\n",
       " 0.8376771112372575,\n",
       " 0.8385597892968623,\n",
       " 0.8386662261193667,\n",
       " 0.838825775554174,\n",
       " 0.8396430632736054,\n",
       " 0.8403052154102646,\n",
       " 0.8406231343714946,\n",
       " 0.8408337603883537,\n",
       " 0.8403544805893798,\n",
       " 0.8406378448108031]"
      ]
     },
     "execution_count": 97,
     "metadata": {},
     "output_type": "execute_result"
    }
   ],
   "source": [
    "roc_validacion"
   ]
  },
  {
   "cell_type": "code",
   "execution_count": 98,
   "id": "9f76db48",
   "metadata": {},
   "outputs": [
    {
     "data": {
      "image/png": "[encoded data removed]",
      "text/plain": [
       "<Figure size 720x360 with 1 Axes>"
      ]
     },
     "metadata": {
      "needs_background": "light"
     },
     "output_type": "display_data"
    }
   ],
   "source": [
    "fig, ax = plt.subplots(figsize=(10,5))\n",
    "\n",
    "ax.set_title(\"Entrenamiento Validación Sesgo\",fontsize=20)\n",
    "ax.plot(prof,roc_entrenamiento,color=\"blue\",linewidth=3,label=\"Entrenamiento\")\n",
    "ax.plot(prof,roc_validacion,color=\"red\",linewidth=3,label=\"Validacion\")\n",
    "#gca().yaxis.set_major_formatter(\"{x:,.0%}\")\n",
    "xticks(fontsize=16)\n",
    "yticks(fontsize=16)\n",
    "axvline(4)\n",
    "legend(fontsize=15)\n",
    "show()"
   ]
  },
  {
   "cell_type": "code",
   "execution_count": null,
   "id": "b36ec05f",
   "metadata": {},
   "outputs": [],
   "source": []
  }
 ],
 "metadata": {
  "kernelspec": {
   "display_name": "Python 3",
   "language": "python",
   "name": "python3"
  },
  "language_info": {
   "codemirror_mode": {
    "name": "ipython",
    "version": 3
   },
   "file_extension": ".py",
   "mimetype": "text/x-python",
   "name": "python",
   "nbconvert_exporter": "python",
   "pygments_lexer": "ipython3",
   "version": "3.8.8"
  }
 },
 "nbformat": 4,
 "nbformat_minor": 5
}
