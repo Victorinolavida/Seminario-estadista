{
 "cells": [
  {
   "cell_type": "code",
   "execution_count": 2,
   "id": "dbe14ca1",
   "metadata": {},
   "outputs": [],
   "source": [
    "import pandas as pd\n",
    "from sklearn.model_selection import train_test_split \n",
    "from sklearn.linear_model import LogisticRegression\n",
    "from sklearn.metrics import roc_curve, auc\n",
    "from pylab import*\n",
    "\n",
    "import seaborn as sns\n",
    "from optbinning import OptimalBinning"
   ]
  },
  {
   "cell_type": "code",
   "execution_count": 3,
   "id": "e76f3e03",
   "metadata": {},
   "outputs": [],
   "source": [
    "ruta=\"/home/sloker/Documents/python/seminario/Tarea 1/tarea2/\"\n",
    "base=\"tabla.xlsx\"\n",
    "df = pd.read_excel(ruta+base, sheet_name=0)"
   ]
  },
  {
   "cell_type": "code",
   "execution_count": 4,
   "id": "c7a3f26b",
   "metadata": {},
   "outputs": [
    {
     "data": {
      "text/html": [
       "<div>\n",
       "<style scoped>\n",
       "    .dataframe tbody tr th:only-of-type {\n",
       "        vertical-align: middle;\n",
       "    }\n",
       "\n",
       "    .dataframe tbody tr th {\n",
       "        vertical-align: top;\n",
       "    }\n",
       "\n",
       "    .dataframe thead th {\n",
       "        text-align: right;\n",
       "    }\n",
       "</style>\n",
       "<table border=\"1\" class=\"dataframe\">\n",
       "  <thead>\n",
       "    <tr style=\"text-align: right;\">\n",
       "      <th></th>\n",
       "      <th>_id_</th>\n",
       "      <th>_id2_</th>\n",
       "      <th>comp_mixto1</th>\n",
       "      <th>comp_externo1</th>\n",
       "      <th>comp_externo2</th>\n",
       "      <th>comp_externo3</th>\n",
       "      <th>comp_externo4</th>\n",
       "      <th>fecha_inicio</th>\n",
       "      <th>comp_interno1</th>\n",
       "      <th>comp_interno2</th>\n",
       "      <th>comp_interno3</th>\n",
       "      <th>comp_interno4</th>\n",
       "      <th>categoria1</th>\n",
       "      <th>categoria2</th>\n",
       "      <th>categoria3</th>\n",
       "      <th>inversion</th>\n",
       "      <th>Y</th>\n",
       "    </tr>\n",
       "  </thead>\n",
       "  <tbody>\n",
       "    <tr>\n",
       "      <th>0</th>\n",
       "      <td>78213</td>\n",
       "      <td>1798899</td>\n",
       "      <td>0.33522</td>\n",
       "      <td>260.869565</td>\n",
       "      <td>25.854639</td>\n",
       "      <td>56</td>\n",
       "      <td>-230.0</td>\n",
       "      <td>2020-03-25</td>\n",
       "      <td>0.000000</td>\n",
       "      <td>b'0'</td>\n",
       "      <td>11</td>\n",
       "      <td>58</td>\n",
       "      <td>2</td>\n",
       "      <td>9</td>\n",
       "      <td>156</td>\n",
       "      <td>0.000000</td>\n",
       "      <td>1</td>\n",
       "    </tr>\n",
       "    <tr>\n",
       "      <th>1</th>\n",
       "      <td>76457</td>\n",
       "      <td>1758511</td>\n",
       "      <td>0.33334</td>\n",
       "      <td>40.579710</td>\n",
       "      <td>2.872738</td>\n",
       "      <td>62</td>\n",
       "      <td>-230.0</td>\n",
       "      <td>2020-02-13</td>\n",
       "      <td>0.000000</td>\n",
       "      <td>b'1'</td>\n",
       "      <td>28</td>\n",
       "      <td>45</td>\n",
       "      <td>1</td>\n",
       "      <td>4</td>\n",
       "      <td>173</td>\n",
       "      <td>0.041039</td>\n",
       "      <td>1</td>\n",
       "    </tr>\n",
       "    <tr>\n",
       "      <th>2</th>\n",
       "      <td>40666</td>\n",
       "      <td>935318</td>\n",
       "      <td>0.29186</td>\n",
       "      <td>0.000000</td>\n",
       "      <td>0.000000</td>\n",
       "      <td>119</td>\n",
       "      <td>-230.0</td>\n",
       "      <td>2018-01-24</td>\n",
       "      <td>0.000000</td>\n",
       "      <td>b'1'</td>\n",
       "      <td>25</td>\n",
       "      <td>45</td>\n",
       "      <td>1</td>\n",
       "      <td>9</td>\n",
       "      <td>170</td>\n",
       "      <td>0.000000</td>\n",
       "      <td>1</td>\n",
       "    </tr>\n",
       "    <tr>\n",
       "      <th>3</th>\n",
       "      <td>8329</td>\n",
       "      <td>191567</td>\n",
       "      <td>0.29112</td>\n",
       "      <td>349.275362</td>\n",
       "      <td>34.616490</td>\n",
       "      <td>94</td>\n",
       "      <td>-230.0</td>\n",
       "      <td>2016-10-07</td>\n",
       "      <td>0.000000</td>\n",
       "      <td>b'1'</td>\n",
       "      <td>14</td>\n",
       "      <td>59</td>\n",
       "      <td>3</td>\n",
       "      <td>3</td>\n",
       "      <td>159</td>\n",
       "      <td>0.000000</td>\n",
       "      <td>1</td>\n",
       "    </tr>\n",
       "    <tr>\n",
       "      <th>4</th>\n",
       "      <td>68389</td>\n",
       "      <td>1572947</td>\n",
       "      <td>0.27318</td>\n",
       "      <td>276.811594</td>\n",
       "      <td>27.434645</td>\n",
       "      <td>125</td>\n",
       "      <td>-230.0</td>\n",
       "      <td>2019-07-30</td>\n",
       "      <td>2026.342452</td>\n",
       "      <td>b'1'</td>\n",
       "      <td>1</td>\n",
       "      <td>67</td>\n",
       "      <td>2</td>\n",
       "      <td>9</td>\n",
       "      <td>146</td>\n",
       "      <td>77.422135</td>\n",
       "      <td>1</td>\n",
       "    </tr>\n",
       "  </tbody>\n",
       "</table>\n",
       "</div>"
      ],
      "text/plain": [
       "    _id_    _id2_  comp_mixto1  comp_externo1  comp_externo2  comp_externo3  \\\n",
       "0  78213  1798899      0.33522     260.869565      25.854639             56   \n",
       "1  76457  1758511      0.33334      40.579710       2.872738             62   \n",
       "2  40666   935318      0.29186       0.000000       0.000000            119   \n",
       "3   8329   191567      0.29112     349.275362      34.616490             94   \n",
       "4  68389  1572947      0.27318     276.811594      27.434645            125   \n",
       "\n",
       "   comp_externo4 fecha_inicio  comp_interno1 comp_interno2  comp_interno3  \\\n",
       "0         -230.0   2020-03-25       0.000000          b'0'             11   \n",
       "1         -230.0   2020-02-13       0.000000          b'1'             28   \n",
       "2         -230.0   2018-01-24       0.000000          b'1'             25   \n",
       "3         -230.0   2016-10-07       0.000000          b'1'             14   \n",
       "4         -230.0   2019-07-30    2026.342452          b'1'              1   \n",
       "\n",
       "   comp_interno4  categoria1  categoria2  categoria3  inversion  Y  \n",
       "0             58           2           9         156   0.000000  1  \n",
       "1             45           1           4         173   0.041039  1  \n",
       "2             45           1           9         170   0.000000  1  \n",
       "3             59           3           3         159   0.000000  1  \n",
       "4             67           2           9         146  77.422135  1  "
      ]
     },
     "execution_count": 4,
     "metadata": {},
     "output_type": "execute_result"
    }
   ],
   "source": [
    "df.head()"
   ]
  },
  {
   "cell_type": "code",
   "execution_count": 4,
   "id": "195d89be",
   "metadata": {},
   "outputs": [],
   "source": [
    "#df.info()"
   ]
  },
  {
   "cell_type": "code",
   "execution_count": 5,
   "id": "a6ed2cae",
   "metadata": {},
   "outputs": [
    {
     "data": {
      "text/plain": [
       "1    0.84802\n",
       "0    0.15198\n",
       "Name: Y, dtype: float64"
      ]
     },
     "execution_count": 5,
     "metadata": {},
     "output_type": "execute_result"
    }
   ],
   "source": [
    "df['Y'].value_counts(normalize=True)"
   ]
  },
  {
   "cell_type": "code",
   "execution_count": 10,
   "id": "bf81ec56",
   "metadata": {},
   "outputs": [
    {
     "data": {
      "text/plain": [
       "1    0.45310\n",
       "2    0.30228\n",
       "3    0.21486\n",
       "4    0.01662\n",
       "6    0.00788\n",
       "5    0.00526\n",
       "Name: categoria1, dtype: float64"
      ]
     },
     "execution_count": 10,
     "metadata": {},
     "output_type": "execute_result"
    }
   ],
   "source": [
    "df['categoria1'].value_counts(normalize=True)"
   ]
  },
  {
   "cell_type": "code",
   "execution_count": null,
   "id": "4605e48c",
   "metadata": {},
   "outputs": [],
   "source": [
    "df['categoria2'].value_counts(normalize=True)"
   ]
  },
  {
   "cell_type": "code",
   "execution_count": 11,
   "id": "1c703f08",
   "metadata": {},
   "outputs": [
    {
     "data": {
      "text/plain": [
       "146    0.14480\n",
       "164    0.14178\n",
       "159    0.10886\n",
       "160    0.07422\n",
       "156    0.04326\n",
       "169    0.03568\n",
       "170    0.03560\n",
       "151    0.03508\n",
       "167    0.03496\n",
       "154    0.03298\n",
       "166    0.03166\n",
       "175    0.03080\n",
       "148    0.02540\n",
       "147    0.02328\n",
       "168    0.02242\n",
       "176    0.02032\n",
       "171    0.01992\n",
       "173    0.01922\n",
       "162    0.01782\n",
       "161    0.01518\n",
       "163    0.01090\n",
       "158    0.01052\n",
       "155    0.01010\n",
       "153    0.00888\n",
       "149    0.00868\n",
       "152    0.00846\n",
       "177    0.00762\n",
       "157    0.00702\n",
       "172    0.00558\n",
       "165    0.00492\n",
       "150    0.00268\n",
       "174    0.00140\n",
       "Name: categoria3, dtype: float64"
      ]
     },
     "execution_count": 11,
     "metadata": {},
     "output_type": "execute_result"
    }
   ],
   "source": [
    "df['categoria3'].value_counts(normalize=True)"
   ]
  },
  {
   "cell_type": "code",
   "execution_count": 9,
   "id": "eb8a44a9",
   "metadata": {},
   "outputs": [
    {
     "data": {
      "text/plain": [
       "b'1'    0.70584\n",
       "b'0'    0.29416\n",
       "Name: comp_interno2, dtype: float64"
      ]
     },
     "execution_count": 9,
     "metadata": {},
     "output_type": "execute_result"
    }
   ],
   "source": [
    "df['comp_interno2'].value_counts(normalize=True)"
   ]
  },
  {
   "cell_type": "code",
   "execution_count": 15,
   "id": "2bc90c33",
   "metadata": {},
   "outputs": [],
   "source": [
    "train, test = train_test_split(df, test_size = 0.30, random_state = 100) "
   ]
  },
  {
   "cell_type": "code",
   "execution_count": 8,
   "id": "db09b329",
   "metadata": {},
   "outputs": [
    {
     "name": "stdout",
     "output_type": "stream",
     "text": [
      "<class 'pandas.core.frame.DataFrame'>\n",
      "Int64Index: 35000 entries, 48824 to 38408\n",
      "Data columns (total 17 columns):\n",
      " #   Column         Non-Null Count  Dtype  \n",
      "---  ------         --------------  -----  \n",
      " 0   _id_           35000 non-null  int64  \n",
      " 1   _id2_          35000 non-null  int64  \n",
      " 2   comp_mixto1    35000 non-null  float64\n",
      " 3   comp_externo1  35000 non-null  float64\n",
      " 4   comp_externo2  35000 non-null  float64\n",
      " 5   comp_externo3  35000 non-null  int64  \n",
      " 6   comp_externo4  35000 non-null  float64\n",
      " 7   fecha_inicio   35000 non-null  object \n",
      " 8   comp_interno1  35000 non-null  float64\n",
      " 9   comp_interno2  35000 non-null  object \n",
      " 10  comp_interno3  35000 non-null  int64  \n",
      " 11  comp_interno4  35000 non-null  int64  \n",
      " 12  categoria1     35000 non-null  int64  \n",
      " 13  categoria2     35000 non-null  int64  \n",
      " 14  categoria3     35000 non-null  int64  \n",
      " 15  inversion      35000 non-null  float64\n",
      " 16  Y              35000 non-null  int64  \n",
      "dtypes: float64(6), int64(9), object(2)\n",
      "memory usage: 4.8+ MB\n"
     ]
    }
   ],
   "source": [
    "train.info()"
   ]
  },
  {
   "cell_type": "code",
   "execution_count": 9,
   "id": "dbb0008c",
   "metadata": {},
   "outputs": [],
   "source": [
    "#test.info()"
   ]
  },
  {
   "cell_type": "code",
   "execution_count": 16,
   "id": "577e1b11",
   "metadata": {},
   "outputs": [],
   "source": [
    "y = train.Y"
   ]
  },
  {
   "cell_type": "code",
   "execution_count": 11,
   "id": "54a2ddbd",
   "metadata": {},
   "outputs": [
    {
     "data": {
      "text/plain": [
       "'\\nThis is a\\nmultilline comment\\n'"
      ]
     },
     "execution_count": 11,
     "metadata": {},
     "output_type": "execute_result"
    }
   ],
   "source": [
    "#optb_inversion = OptimalBinning(name=\"inversion\", dtype=\"numerical\", solver=\"cp\")\n",
    "#optb_patrimonio.fit(train[\"inversion\"].values, y)\n",
    "#display(\"Binning de Patrimonio:\",optb_patrimonio.splits)\n",
    "#patrimonio_table = optb_patrimonio.binning_table \n",
    "#display(patrimonio_table.build())\n",
    "\n",
    "\n",
    "\"\"\"\n",
    "This is a\n",
    "multilline comment\n",
    "\"\"\"\n"
   ]
  },
  {
   "cell_type": "code",
   "execution_count": 26,
   "id": "f1748d89",
   "metadata": {},
   "outputs": [],
   "source": [
    "#optb de todas las columnas \n",
    "optb_comp_interno2=OptimalBinning(name=\"comp_interno2\",  dtype=\"categorical\", solver=\"mip\")\n",
    "optb_categoria1=OptimalBinning(name=\"categoria1\",  dtype=\"categorical\", solver=\"mip\")\n",
    "optb_categoria2=OptimalBinning(name=\"categoria2\",  dtype=\"categorical\", solver=\"mip\")\n",
    "optb_categoria3=OptimalBinning(name=\"categoria3\",  dtype=\"categorical\", solver=\"mip\")\n",
    "optb_inversion = OptimalBinning(name=\"inversion\", dtype=\"numerical\", solver=\"cp\")\n",
    "\n"
   ]
  },
  {
   "cell_type": "code",
   "execution_count": 19,
   "id": "ba76a9a0",
   "metadata": {},
   "outputs": [
    {
     "data": {
      "text/plain": [
       "OptimalBinning(dtype='categorical', name='categoria3', solver='mip')"
      ]
     },
     "execution_count": 19,
     "metadata": {},
     "output_type": "execute_result"
    }
   ],
   "source": [
    "optb_comp_interno2.fit(train[\"comp_interno2\"].values, y)\n",
    "optb_categoria1.fit(train[\"categoria1\"].values, y)\n",
    "optb_categoria2.fit(train[\"categoria2\"].values, y)\n",
    "optb_categoria3.fit(train[\"categoria3\"].values, y)\n",
    "optb_inversion.fit(train[\"categoria3\"].values, y)\n"
   ]
  },
  {
   "cell_type": "code",
   "execution_count": 20,
   "id": "cedc7bcc",
   "metadata": {},
   "outputs": [
    {
     "data": {
      "text/plain": [
       "'Binning de comp_interno2:'"
      ]
     },
     "metadata": {},
     "output_type": "display_data"
    },
    {
     "data": {
      "text/plain": [
       "[array([\"b'1'\"], dtype=object), array([\"b'0'\"], dtype=object)]"
      ]
     },
     "metadata": {},
     "output_type": "display_data"
    }
   ],
   "source": [
    "display(\"Binning de comp_interno2:\",optb_comp_interno2.splits)"
   ]
  },
  {
   "cell_type": "code",
   "execution_count": 22,
   "id": "73df26ef",
   "metadata": {},
   "outputs": [],
   "source": [
    "comp_interno2_table = optb_comp_interno2.binning_table \n",
    "categoria1_table = optb_categoria1.binning_table\n",
    "categoria2_table = optb_categoria2.binning_table\n",
    "categoria3_table = optb_categoria3.binning_table"
   ]
  },
  {
   "cell_type": "code",
   "execution_count": 24,
   "id": "b47bbcac",
   "metadata": {},
   "outputs": [
    {
     "data": {
      "text/html": [
       "<div>\n",
       "<style scoped>\n",
       "    .dataframe tbody tr th:only-of-type {\n",
       "        vertical-align: middle;\n",
       "    }\n",
       "\n",
       "    .dataframe tbody tr th {\n",
       "        vertical-align: top;\n",
       "    }\n",
       "\n",
       "    .dataframe thead th {\n",
       "        text-align: right;\n",
       "    }\n",
       "</style>\n",
       "<table border=\"1\" class=\"dataframe\">\n",
       "  <thead>\n",
       "    <tr style=\"text-align: right;\">\n",
       "      <th></th>\n",
       "      <th>Bin</th>\n",
       "      <th>Count</th>\n",
       "      <th>Count (%)</th>\n",
       "      <th>Non-event</th>\n",
       "      <th>Event</th>\n",
       "      <th>Event rate</th>\n",
       "      <th>WoE</th>\n",
       "      <th>IV</th>\n",
       "      <th>JS</th>\n",
       "    </tr>\n",
       "  </thead>\n",
       "  <tbody>\n",
       "    <tr>\n",
       "      <th>0</th>\n",
       "      <td>[1]</td>\n",
       "      <td>15924</td>\n",
       "      <td>0.454971</td>\n",
       "      <td>2586</td>\n",
       "      <td>13338</td>\n",
       "      <td>0.837604</td>\n",
       "      <td>0.07142</td>\n",
       "      <td>0.002379</td>\n",
       "      <td>0.000297</td>\n",
       "    </tr>\n",
       "    <tr>\n",
       "      <th>1</th>\n",
       "      <td>[2]</td>\n",
       "      <td>10537</td>\n",
       "      <td>0.301057</td>\n",
       "      <td>1642</td>\n",
       "      <td>8895</td>\n",
       "      <td>0.844168</td>\n",
       "      <td>0.02235</td>\n",
       "      <td>0.000152</td>\n",
       "      <td>0.000019</td>\n",
       "    </tr>\n",
       "    <tr>\n",
       "      <th>2</th>\n",
       "      <td>[4, 3, 5, 6]</td>\n",
       "      <td>8539</td>\n",
       "      <td>0.243971</td>\n",
       "      <td>1124</td>\n",
       "      <td>7415</td>\n",
       "      <td>0.868369</td>\n",
       "      <td>-0.174687</td>\n",
       "      <td>0.007003</td>\n",
       "      <td>0.000874</td>\n",
       "    </tr>\n",
       "    <tr>\n",
       "      <th>3</th>\n",
       "      <td>Special</td>\n",
       "      <td>0</td>\n",
       "      <td>0.000000</td>\n",
       "      <td>0</td>\n",
       "      <td>0</td>\n",
       "      <td>0.000000</td>\n",
       "      <td>0.0</td>\n",
       "      <td>0.000000</td>\n",
       "      <td>0.000000</td>\n",
       "    </tr>\n",
       "    <tr>\n",
       "      <th>4</th>\n",
       "      <td>Missing</td>\n",
       "      <td>0</td>\n",
       "      <td>0.000000</td>\n",
       "      <td>0</td>\n",
       "      <td>0</td>\n",
       "      <td>0.000000</td>\n",
       "      <td>0.0</td>\n",
       "      <td>0.000000</td>\n",
       "      <td>0.000000</td>\n",
       "    </tr>\n",
       "    <tr>\n",
       "      <th>Totals</th>\n",
       "      <td></td>\n",
       "      <td>35000</td>\n",
       "      <td>1.000000</td>\n",
       "      <td>5352</td>\n",
       "      <td>29648</td>\n",
       "      <td>0.847086</td>\n",
       "      <td></td>\n",
       "      <td>0.009533</td>\n",
       "      <td>0.001190</td>\n",
       "    </tr>\n",
       "  </tbody>\n",
       "</table>\n",
       "</div>"
      ],
      "text/plain": [
       "                 Bin  Count  Count (%)  Non-event  Event  Event rate  \\\n",
       "0                [1]  15924   0.454971       2586  13338    0.837604   \n",
       "1                [2]  10537   0.301057       1642   8895    0.844168   \n",
       "2       [4, 3, 5, 6]   8539   0.243971       1124   7415    0.868369   \n",
       "3            Special      0   0.000000          0      0    0.000000   \n",
       "4            Missing      0   0.000000          0      0    0.000000   \n",
       "Totals                35000   1.000000       5352  29648    0.847086   \n",
       "\n",
       "             WoE        IV        JS  \n",
       "0        0.07142  0.002379  0.000297  \n",
       "1        0.02235  0.000152  0.000019  \n",
       "2      -0.174687  0.007003  0.000874  \n",
       "3            0.0  0.000000  0.000000  \n",
       "4            0.0  0.000000  0.000000  \n",
       "Totals            0.009533  0.001190  "
      ]
     },
     "metadata": {},
     "output_type": "display_data"
    }
   ],
   "source": [
    "display(categoria1_table.build())"
   ]
  },
  {
   "cell_type": "code",
   "execution_count": 25,
   "id": "ad0686ef",
   "metadata": {},
   "outputs": [
    {
     "data": {
      "image/png": "[encoded data removed]",
      "text/plain": [
       "<Figure size 432x288 with 2 Axes>"
      ]
     },
     "metadata": {
      "needs_background": "light"
     },
     "output_type": "display_data"
    },
    {
     "data": {
      "image/png": "[encoded data removed]",
      "text/plain": [
       "<Figure size 432x288 with 2 Axes>"
      ]
     },
     "metadata": {
      "needs_background": "light"
     },
     "output_type": "display_data"
    }
   ],
   "source": [
    "comp_interno2_table.plot(metric=\"event_rate\")\n",
    "comp_interno2_table.plot(metric=\"woe\")"
   ]
  }
 ],
 "metadata": {
  "kernelspec": {
   "display_name": "Python 3 (ipykernel)",
   "language": "python",
   "name": "python3"
  },
  "language_info": {
   "codemirror_mode": {
    "name": "ipython",
    "version": 3
   },
   "file_extension": ".py",
   "mimetype": "text/x-python",
   "name": "python",
   "nbconvert_exporter": "python",
   "pygments_lexer": "ipython3",
   "version": "3.9.7"
  }
 },
 "nbformat": 4,
 "nbformat_minor": 5
}
